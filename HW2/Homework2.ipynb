{
 "cells": [
  {
   "cell_type": "markdown",
   "metadata": {},
   "source": [
    "# Homework 2"
   ]
  },
  {
   "cell_type": "markdown",
   "metadata": {},
   "source": [
    "## Navigation\n",
    "* [1. Import librarys and data](#section1)\n",
    "* [2. Data cleaning and preprocess](#section2)\n",
    "* [3. Model](#section3)\n",
    "* [4. Experiments on decision tree](#section4)\n",
    "  - [Default params](#section41)\n",
    "  - [Change max depth](#section42)\n",
    "  - [Change max features](#section43)\n",
    "  - [Analysis changes](#section44)\n",
    "* [5. Bagging and Boosting](#section5)\n",
    "  - [Bagging](#section51)\n",
    "  - [Boosting](#section52)\n",
    "  - [Analysis different models](#section53)"
   ]
  },
  {
   "cell_type": "markdown",
   "metadata": {},
   "source": [
    "<a id='section1'></a>\n",
    "### Import librarys and data"
   ]
  },
  {
   "cell_type": "code",
   "execution_count": 1,
   "metadata": {},
   "outputs": [],
   "source": [
    "import os\n",
    "import pdb\n",
    "\n",
    "import numpy as np\n",
    "import pandas as pd\n",
    "import seaborn as sns\n",
    "import matplotlib.pyplot as plt\n",
    "\n",
    "from os import listdir\n",
    "from os.path import join, exists\n",
    "\n",
    "from sklearn import tree\n",
    "from sklearn.ensemble import BaggingClassifier, AdaBoostClassifier, GradientBoostingClassifier\n",
    "from sklearn.metrics import accuracy_score, f1_score\n",
    "from sklearn.model_selection import train_test_split, cross_val_score, RepeatedStratifiedKFold\n",
    "\n",
    "import warnings\n",
    "warnings.filterwarnings('ignore')"
   ]
  },
  {
   "cell_type": "code",
   "execution_count": 2,
   "metadata": {},
   "outputs": [],
   "source": [
    "# Read data\n",
    "data_path = \"./smoke_detection_iot.csv\"\n",
    "df = pd.read_csv(data_path)"
   ]
  },
  {
   "cell_type": "markdown",
   "metadata": {},
   "source": [
    "<a id='section2'></a>\n",
    "### Data cleaning and preprocess"
   ]
  },
  {
   "cell_type": "code",
   "execution_count": 3,
   "metadata": {},
   "outputs": [],
   "source": [
    "# Normalize\n",
    "df = (df - np.min(df)) / (np.max(df) - np.min(df))\n",
    "\n",
    "# Same cleaning step from Homework 1 since using the same dataset\n",
    "df = df.drop(columns=[\"Unnamed: 0\", \"UTC\", \"CNT\"])\n",
    "\n",
    "X = df.copy().drop('Fire Alarm', axis=1).values\n",
    "Y = df.copy()['Fire Alarm'].values\n",
    "# train/test/val split\n",
    "X_train, X_test, Y_train, Y_test = train_test_split(X, Y, train_size=0.8, random_state=9)\n",
    "# X_val, X_test, Y_val, Y_test= train_test_split(X_train, Y_train, train_size=0.5)"
   ]
  },
  {
   "cell_type": "markdown",
   "metadata": {},
   "source": [
    "<a id='section3'></a>\n",
    "### Model"
   ]
  },
  {
   "cell_type": "code",
   "execution_count": 4,
   "metadata": {},
   "outputs": [],
   "source": [
    "def build_decision_tree_clf(X_train, Y_train, train=True, max_depth=None, min_samples_split=2, max_features=None):\n",
    "    clf = tree.DecisionTreeClassifier(\n",
    "        max_depth=max_depth,\n",
    "        min_samples_split=min_samples_split,\n",
    "        max_features=max_features,\n",
    "    )\n",
    "    if train:\n",
    "        clf = clf.fit(X_train, Y_train)\n",
    "    return clf"
   ]
  },
  {
   "cell_type": "code",
   "execution_count": 5,
   "metadata": {},
   "outputs": [],
   "source": [
    "def predict(clf, X_test, use_prob=False):\n",
    "    if use_prob:\n",
    "        pred = clf.predict_prob(X_test)\n",
    "    else:\n",
    "        pred = clf.predict(X_test)\n",
    "    return pred"
   ]
  },
  {
   "cell_type": "code",
   "execution_count": 6,
   "metadata": {},
   "outputs": [],
   "source": [
    "def evaluate(clf, X_test, Y_test):\n",
    "    return "
   ]
  },
  {
   "cell_type": "markdown",
   "metadata": {},
   "source": [
    "<a id='section4'></a>\n",
    "### Experiments on decision tree"
   ]
  },
  {
   "cell_type": "code",
   "execution_count": 7,
   "metadata": {},
   "outputs": [],
   "source": [
    "# Record experiment results\n",
    "results = {\n",
    "    'experiment': [],\n",
    "    'accuracy': []\n",
    "}\n"
   ]
  },
  {
   "cell_type": "markdown",
   "metadata": {},
   "source": [
    "<a id='section41'></a>\n",
    "#### Default params"
   ]
  },
  {
   "cell_type": "code",
   "execution_count": 8,
   "metadata": {},
   "outputs": [
    {
     "name": "stdout",
     "output_type": "stream",
     "text": [
      "Tree Attributes:\n",
      "\tccp_alpha: 0.0\n",
      "\tclass_weight: None\n",
      "\tcriterion: gini\n",
      "\tmax_depth: None\n",
      "\tmax_features: None\n",
      "\tmax_leaf_nodes: None\n",
      "\tmin_impurity_decrease: 0.0\n",
      "\tmin_samples_leaf: 1\n",
      "\tmin_samples_split: 2\n",
      "\tmin_weight_fraction_leaf: 0.0\n",
      "\trandom_state: None\n",
      "\tsplitter: best\n",
      "\ttree depth: 8\n",
      "\ttree max features: 12\n",
      "Accuracy(train): 1.0\n",
      "Accuracy(test): 0.9998403321092129\n",
      "F1-score(train): 1.0\n",
      "F1-score(test): 0.9998881681950346\n"
     ]
    }
   ],
   "source": [
    "# params\n",
    "max_depth = None\n",
    "max_features = None\n",
    "\n",
    "# train and predict\n",
    "decision_tree_clf = build_decision_tree_clf(X_train, Y_train, max_depth=max_depth, max_features=max_features)\n",
    "Y_pred_train = predict(decision_tree_clf, X_train)\n",
    "Y_pred_test = predict(decision_tree_clf, X_test)\n",
    "\n",
    "# evaluate\n",
    "accuracy_train = accuracy_score(Y_train, Y_pred_train)\n",
    "f1_train = f1_score(Y_train, Y_pred_train)\n",
    "accuracy_test = accuracy_score(Y_test, Y_pred_test)\n",
    "f1_test = f1_score(Y_test, Y_pred_test)\n",
    "\n",
    "# tree attributes\n",
    "tree_attrs = decision_tree_clf.get_params()\n",
    "tree_depth = decision_tree_clf.get_depth()\n",
    "tree_max_features = decision_tree_clf.max_features_\n",
    "\n",
    "print(f\"Tree Attributes:\")\n",
    "for attr in tree_attrs:\n",
    "    print(f\"\\t{attr}: {tree_attrs[attr]}\")\n",
    "print(f\"\\ttree depth: {tree_depth}\")\n",
    "print(f\"\\ttree max features: {tree_max_features}\")\n",
    "print(f\"Accuracy(train): {accuracy_train}\\nAccuracy(test): {accuracy_test}\\nF1-score(train): {f1_train}\\nF1-score(test): {f1_test}\")\n",
    "\n",
    "results['accuracy'].append(accuracy_test)\n",
    "results['experiment'].append('max_depth=8, max_features=12')"
   ]
  },
  {
   "cell_type": "markdown",
   "metadata": {},
   "source": [
    "<a id='section42'></a>\n",
    "#### Change max depth"
   ]
  },
  {
   "cell_type": "code",
   "execution_count": 9,
   "metadata": {},
   "outputs": [
    {
     "name": "stdout",
     "output_type": "stream",
     "text": [
      "Tree Attributes:\n",
      "\tccp_alpha: 0.0\n",
      "\tclass_weight: None\n",
      "\tcriterion: gini\n",
      "\tmax_depth: 4\n",
      "\tmax_features: None\n",
      "\tmax_leaf_nodes: None\n",
      "\tmin_impurity_decrease: 0.0\n",
      "\tmin_samples_leaf: 1\n",
      "\tmin_samples_split: 2\n",
      "\tmin_weight_fraction_leaf: 0.0\n",
      "\trandom_state: None\n",
      "\tsplitter: best\n",
      "\ttree depth: 4\n",
      "\ttree max features: 12\n",
      "Accuracy(train): 0.9886436212677631\n",
      "Accuracy(test): 0.9876257384639949\n",
      "F1-score(train): 0.9921190044183437\n",
      "F1-score(test): 0.9914056002217909\n"
     ]
    }
   ],
   "source": [
    "# params\n",
    "max_depth = 4\n",
    "max_features = None\n",
    "\n",
    "# train and predict\n",
    "decision_tree_clf = build_decision_tree_clf(X_train, Y_train, max_depth=max_depth, max_features=max_features)\n",
    "Y_pred_train = predict(decision_tree_clf, X_train)\n",
    "Y_pred_test = predict(decision_tree_clf, X_test)\n",
    "\n",
    "# evaluate\n",
    "accuracy_train = accuracy_score(Y_train, Y_pred_train)\n",
    "f1_train = f1_score(Y_train, Y_pred_train)\n",
    "accuracy_test = accuracy_score(Y_test, Y_pred_test)\n",
    "f1_test = f1_score(Y_test, Y_pred_test)\n",
    "\n",
    "# tree attributes\n",
    "tree_attrs = decision_tree_clf.get_params()\n",
    "tree_depth = decision_tree_clf.get_depth()\n",
    "tree_max_features = decision_tree_clf.max_features_\n",
    "\n",
    "print(f\"Tree Attributes:\")\n",
    "for attr in tree_attrs:\n",
    "    print(f\"\\t{attr}: {tree_attrs[attr]}\")\n",
    "print(f\"\\ttree depth: {tree_depth}\")\n",
    "print(f\"\\ttree max features: {tree_max_features}\")\n",
    "print(f\"Accuracy(train): {accuracy_train}\\nAccuracy(test): {accuracy_test}\\nF1-score(train): {f1_train}\\nF1-score(test): {f1_test}\")\n",
    "\n",
    "results['accuracy'].append(accuracy_test)\n",
    "results['experiment'].append('max_depth=4, max_features=12')"
   ]
  },
  {
   "cell_type": "code",
   "execution_count": 10,
   "metadata": {},
   "outputs": [
    {
     "name": "stdout",
     "output_type": "stream",
     "text": [
      "Tree Attributes:\n",
      "\tccp_alpha: 0.0\n",
      "\tclass_weight: None\n",
      "\tcriterion: gini\n",
      "\tmax_depth: 2\n",
      "\tmax_features: None\n",
      "\tmax_leaf_nodes: None\n",
      "\tmin_impurity_decrease: 0.0\n",
      "\tmin_samples_leaf: 1\n",
      "\tmin_samples_split: 2\n",
      "\tmin_weight_fraction_leaf: 0.0\n",
      "\trandom_state: None\n",
      "\tsplitter: best\n",
      "\ttree depth: 2\n",
      "\ttree max features: 12\n",
      "Accuracy(train): 0.9332987386236627\n",
      "Accuracy(test): 0.9304646335621907\n",
      "F1-score(train): 0.952194312525033\n",
      "F1-score(test): 0.9500086093095335\n"
     ]
    }
   ],
   "source": [
    "# params\n",
    "max_depth = 2\n",
    "max_features = None\n",
    "\n",
    "# train and predict\n",
    "decision_tree_clf = build_decision_tree_clf(X_train, Y_train, max_depth=max_depth, max_features=max_features)\n",
    "Y_pred_train = predict(decision_tree_clf, X_train)\n",
    "Y_pred_test = predict(decision_tree_clf, X_test)\n",
    "\n",
    "# evaluate\n",
    "accuracy_train = accuracy_score(Y_train, Y_pred_train)\n",
    "f1_train = f1_score(Y_train, Y_pred_train)\n",
    "accuracy_test = accuracy_score(Y_test, Y_pred_test)\n",
    "f1_test = f1_score(Y_test, Y_pred_test)\n",
    "\n",
    "# tree attributes\n",
    "tree_attrs = decision_tree_clf.get_params()\n",
    "tree_depth = decision_tree_clf.get_depth()\n",
    "tree_max_features = decision_tree_clf.max_features_\n",
    "\n",
    "print(f\"Tree Attributes:\")\n",
    "for attr in tree_attrs:\n",
    "    print(f\"\\t{attr}: {tree_attrs[attr]}\")\n",
    "print(f\"\\ttree depth: {tree_depth}\")\n",
    "print(f\"\\ttree max features: {tree_max_features}\")\n",
    "print(f\"Accuracy(train): {accuracy_train}\\nAccuracy(test): {accuracy_test}\\nF1-score(train): {f1_train}\\nF1-score(test): {f1_test}\")\n",
    "\n",
    "results['accuracy'].append(accuracy_test)\n",
    "results['experiment'].append('max_depth=2, max_features=12')"
   ]
  },
  {
   "cell_type": "markdown",
   "metadata": {},
   "source": [
    "<a id='section43'></a>\n",
    "#### Change max features"
   ]
  },
  {
   "cell_type": "code",
   "execution_count": 11,
   "metadata": {},
   "outputs": [
    {
     "name": "stdout",
     "output_type": "stream",
     "text": [
      "Tree Attributes:\n",
      "\tccp_alpha: 0.0\n",
      "\tclass_weight: None\n",
      "\tcriterion: gini\n",
      "\tmax_depth: None\n",
      "\tmax_features: 2\n",
      "\tmax_leaf_nodes: None\n",
      "\tmin_impurity_decrease: 0.0\n",
      "\tmin_samples_leaf: 1\n",
      "\tmin_samples_split: 2\n",
      "\tmin_weight_fraction_leaf: 0.0\n",
      "\trandom_state: None\n",
      "\tsplitter: best\n",
      "\ttree depth: 19\n",
      "\ttree max features: 2\n",
      "Accuracy(train): 1.0\n",
      "Accuracy(test): 0.9994411623822449\n",
      "F1-score(train): 1.0\n",
      "F1-score(test): 0.9996086980826207\n"
     ]
    }
   ],
   "source": [
    "# params\n",
    "max_depth = None\n",
    "max_features = 2\n",
    "\n",
    "# train and predict\n",
    "decision_tree_clf = build_decision_tree_clf(X_train, Y_train, max_depth=max_depth, max_features=max_features)\n",
    "Y_pred_train = predict(decision_tree_clf, X_train)\n",
    "Y_pred_test = predict(decision_tree_clf, X_test)\n",
    "\n",
    "# evaluate\n",
    "accuracy_train = accuracy_score(Y_train, Y_pred_train)\n",
    "f1_train = f1_score(Y_train, Y_pred_train)\n",
    "accuracy_test = accuracy_score(Y_test, Y_pred_test)\n",
    "f1_test = f1_score(Y_test, Y_pred_test)\n",
    "\n",
    "# tree attributes\n",
    "tree_attrs = decision_tree_clf.get_params()\n",
    "tree_depth = decision_tree_clf.get_depth()\n",
    "tree_max_features = decision_tree_clf.max_features_\n",
    "\n",
    "print(f\"Tree Attributes:\")\n",
    "for attr in tree_attrs:\n",
    "    print(f\"\\t{attr}: {tree_attrs[attr]}\")\n",
    "print(f\"\\ttree depth: {tree_depth}\")\n",
    "print(f\"\\ttree max features: {tree_max_features}\")\n",
    "print(f\"Accuracy(train): {accuracy_train}\\nAccuracy(test): {accuracy_test}\\nF1-score(train): {f1_train}\\nF1-score(test): {f1_test}\")\n",
    "\n",
    "results['accuracy'].append(accuracy_test)\n",
    "results['experiment'].append('max_depth=8, max_features=2')"
   ]
  },
  {
   "cell_type": "markdown",
   "metadata": {},
   "source": [
    "<a id='section44'></a>\n",
    "#### Analysis changes"
   ]
  },
  {
   "cell_type": "code",
   "execution_count": 12,
   "metadata": {},
   "outputs": [
    {
     "data": {
      "image/png": "[encoded data removed]",
      "text/plain": [
       "<Figure size 720x720 with 1 Axes>"
      ]
     },
     "metadata": {
      "needs_background": "light"
     },
     "output_type": "display_data"
    }
   ],
   "source": [
    "results_df = pd.DataFrame(results, columns=['experiment', 'accuracy'])\n",
    "x = [1, 2, 3]\n",
    "y = results_df[:3].values[:, 1]\n",
    "labels = results_df[:3].values[:, 0]\n",
    "plt.figure(figsize=(10, 10))\n",
    "plt.plot(x, y)\n",
    "plt.xticks(x, labels)\n",
    "plt.title(\"changes when modifying max depth\")\n",
    "plt.legend(['accuracy'])\n",
    "for i, j in enumerate(y):\n",
    "    plt.text(i+1, j, f\"{j:.6f}\")\n",
    "plt.show()"
   ]
  },
  {
   "cell_type": "code",
   "execution_count": 13,
   "metadata": {},
   "outputs": [
    {
     "data": {
      "image/png": "[encoded data removed]",
      "text/plain": [
       "<Figure size 720x720 with 1 Axes>"
      ]
     },
     "metadata": {
      "needs_background": "light"
     },
     "output_type": "display_data"
    }
   ],
   "source": [
    "results_df = pd.DataFrame(results, columns=['experiment', 'accuracy'])\n",
    "x = [1, 2]\n",
    "y = [results_df.values[0, 1]] + [results_df.values[3, 1]]\n",
    "labels = [results_df.values[0, 0]] + [results_df.values[3, 0]]\n",
    "plt.figure(figsize=(10, 10))\n",
    "plt.plot(x, y)\n",
    "plt.title(\"changes when modifying max features\")\n",
    "plt.xticks(x, labels)\n",
    "plt.legend(['accuracy'])\n",
    "for i, j in enumerate(y):\n",
    "    plt.text(i+1, j, f\"{j:.6f}\")\n",
    "plt.show()"
   ]
  },
  {
   "cell_type": "markdown",
   "metadata": {},
   "source": [
    "<a id='section5'></a>\n",
    "### Bagging and Boosting"
   ]
  },
  {
   "cell_type": "code",
   "execution_count": 14,
   "metadata": {},
   "outputs": [],
   "source": [
    "def build_cv(n_splits=10, n_repeats=5, random_state=8):\n",
    "    cv = RepeatedStratifiedKFold(n_splits=n_splits, n_repeats=n_repeats, random_state=random_state)\n",
    "    return cv"
   ]
  },
  {
   "cell_type": "code",
   "execution_count": 15,
   "metadata": {},
   "outputs": [],
   "source": [
    "def evaluate(clf, X, Y, cv, scoring='accuracy', n_jobs=-1, error_score='raise'):\n",
    "    n_scores = cross_val_score(clf, X, Y, scoring=scoring, cv=cv, n_jobs=n_jobs, error_score=error_score)\n",
    "    mean_accuracy = np.mean(n_scores)\n",
    "    std_accuracy = np.std(n_scores)\n",
    "    return mean_accuracy, std_accuracy"
   ]
  },
  {
   "cell_type": "markdown",
   "metadata": {},
   "source": [
    "<a id='section51'></a>\n",
    "#### Bagging"
   ]
  },
  {
   "cell_type": "code",
   "execution_count": 16,
   "metadata": {},
   "outputs": [],
   "source": [
    "def build_bagging_clf(n_estimator=50):\n",
    "    clf = BaggingClassifier(n_estimators=n_estimator)\n",
    "    return clf"
   ]
  },
  {
   "cell_type": "code",
   "execution_count": 17,
   "metadata": {},
   "outputs": [
    {
     "name": "stdout",
     "output_type": "stream",
     "text": [
      "Accuracy: 0.9999073926233435 (0.0001466512853674599)\n"
     ]
    }
   ],
   "source": [
    "bagging_clf = build_bagging_clf()\n",
    "cv = build_cv()\n",
    "mean_accuracy, std_accuracy = evaluate(bagging_clf, X, Y, cv)\n",
    "print(f\"Accuracy: {mean_accuracy} ({std_accuracy})\")\n",
    "\n",
    "results['accuracy'].append(mean_accuracy)\n",
    "results['experiment'].append('bagging')\n"
   ]
  },
  {
   "cell_type": "markdown",
   "metadata": {},
   "source": [
    "<a id='section52'></a>\n",
    "#### Boosting"
   ]
  },
  {
   "cell_type": "code",
   "execution_count": 18,
   "metadata": {},
   "outputs": [],
   "source": [
    "def build_boosting_clf(X, Y, algorithm='SAMME', n_estimator=4, train=True):\n",
    "    clf = AdaBoostClassifier(n_estimators=n_estimator, algorithm=algorithm)\n",
    "    # if train:\n",
    "    #     clf = clf.fit(X, Y)\n",
    "    return clf"
   ]
  },
  {
   "cell_type": "code",
   "execution_count": 19,
   "metadata": {},
   "outputs": [
    {
     "name": "stdout",
     "output_type": "stream",
     "text": [
      "Accuracy: 0.927462877215392 (0.004853930141024964)\n"
     ]
    }
   ],
   "source": [
    "boosting_clf = build_boosting_clf(X, Y)\n",
    "cv = build_cv()\n",
    "mean_accuracy, std_accuracy = evaluate(boosting_clf, X, Y, cv)\n",
    "print(f\"Accuracy: {mean_accuracy} ({std_accuracy})\")\n",
    "\n",
    "results['accuracy'].append(mean_accuracy)\n",
    "results['experiment'].append('boosting')"
   ]
  },
  {
   "cell_type": "markdown",
   "metadata": {},
   "source": [
    "<a id='section53'></a>\n",
    "#### Analysis different models"
   ]
  },
  {
   "cell_type": "code",
   "execution_count": 20,
   "metadata": {},
   "outputs": [
    {
     "data": {
      "image/png": "[encoded data removed]",
      "text/plain": [
       "<Figure size 720x720 with 1 Axes>"
      ]
     },
     "metadata": {
      "needs_background": "light"
     },
     "output_type": "display_data"
    }
   ],
   "source": [
    "results_df = pd.DataFrame(results, columns=['experiment', 'accuracy'])\n",
    "x = [1, 2, 3]\n",
    "y = [results_df.values[0, 1]] + [results_df.values[4, 1]] + [results_df.values[5, 1]]\n",
    "labels = [results_df.values[0, 0]] + [results_df.values[4, 0]] + [results_df.values[5, 0]]\n",
    "plt.figure(figsize=(10, 10))\n",
    "plt.plot(x, y)\n",
    "plt.xticks(x, labels)\n",
    "plt.title(\"compare default decision tree, bagging, and boosting\")\n",
    "plt.legend(['accuracy'])\n",
    "for i, j in enumerate(y):\n",
    "    plt.text(i+1, j, f\"{j:.6f}\")\n",
    "plt.show()"
   ]
  }
 ],
 "metadata": {
  "kernelspec": {
   "display_name": "Python 3.8.13 ('ml')",
   "language": "python",
   "name": "python3"
  },
  "language_info": {
   "codemirror_mode": {
    "name": "ipython",
    "version": 3
   },
   "file_extension": ".py",
   "mimetype": "text/x-python",
   "name": "python",
   "nbconvert_exporter": "python",
   "pygments_lexer": "ipython3",
   "version": "3.8.13"
  },
  "orig_nbformat": 4,
  "vscode": {
   "interpreter": {
    "hash": "bb8a66da18cb9a08ef1faf318ea6b3f88bd6d51d30c0e91ea3252e02ca9dbf8e"
   }
  }
 },
 "nbformat": 4,
 "nbformat_minor": 2
}
